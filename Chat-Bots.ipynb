{
 "cells": [
  {
   "cell_type": "markdown",
   "metadata": {},
   "source": [
    "<h2 align=\"center\">  Chat Bot using NLP </h2>"
   ]
  },
  {
   "cell_type": "markdown",
   "metadata": {},
   "source": [
    "----"
   ]
  },
  {
   "cell_type": "markdown",
   "metadata": {},
   "source": [
    "## Loading the Data\n",
    "\n",
    "We will be working with the Babi Data Set from Facebook Research.\n",
    "Full Details: https://research.fb.com/downloads/babi/"
   ]
  },
  {
   "cell_type": "code",
   "execution_count": 1,
   "metadata": {},
   "outputs": [],
   "source": [
    "import pickle\n",
    "import numpy as np"
   ]
  },
  {
   "cell_type": "code",
   "execution_count": 2,
   "metadata": {},
   "outputs": [],
   "source": [
    "with open(\"train_qa.txt\", \"rb\") as fp:   # Unpickling\n",
    "    train_data =  pickle.load(fp)"
   ]
  },
  {
   "cell_type": "code",
   "execution_count": 3,
   "metadata": {},
   "outputs": [],
   "source": [
    "with open(\"test_qa.txt\", \"rb\") as fp:   # Unpickling\n",
    "    test_data =  pickle.load(fp)"
   ]
  },
  {
   "cell_type": "markdown",
   "metadata": {},
   "source": [
    "----"
   ]
  },
  {
   "cell_type": "markdown",
   "metadata": {},
   "source": [
    "## Exploring the Format of the Data"
   ]
  },
  {
   "cell_type": "code",
   "execution_count": 4,
   "metadata": {},
   "outputs": [
    {
     "data": {
      "text/plain": [
       "list"
      ]
     },
     "execution_count": 4,
     "metadata": {},
     "output_type": "execute_result"
    }
   ],
   "source": [
    "type(test_data)"
   ]
  },
  {
   "cell_type": "code",
   "execution_count": 5,
   "metadata": {},
   "outputs": [
    {
     "data": {
      "text/plain": [
       "list"
      ]
     },
     "execution_count": 5,
     "metadata": {},
     "output_type": "execute_result"
    }
   ],
   "source": [
    "type(train_data)"
   ]
  },
  {
   "cell_type": "code",
   "execution_count": 6,
   "metadata": {},
   "outputs": [
    {
     "data": {
      "text/plain": [
       "1000"
      ]
     },
     "execution_count": 6,
     "metadata": {},
     "output_type": "execute_result"
    }
   ],
   "source": [
    "len(test_data)"
   ]
  },
  {
   "cell_type": "code",
   "execution_count": 7,
   "metadata": {},
   "outputs": [
    {
     "data": {
      "text/plain": [
       "10000"
      ]
     },
     "execution_count": 7,
     "metadata": {},
     "output_type": "execute_result"
    }
   ],
   "source": [
    "len(train_data)"
   ]
  },
  {
   "cell_type": "code",
   "execution_count": 8,
   "metadata": {},
   "outputs": [
    {
     "data": {
      "text/plain": [
       "(['Mary',\n",
       "  'moved',\n",
       "  'to',\n",
       "  'the',\n",
       "  'bathroom',\n",
       "  '.',\n",
       "  'Sandra',\n",
       "  'journeyed',\n",
       "  'to',\n",
       "  'the',\n",
       "  'bedroom',\n",
       "  '.'],\n",
       " ['Is', 'Sandra', 'in', 'the', 'hallway', '?'],\n",
       " 'no')"
      ]
     },
     "execution_count": 8,
     "metadata": {},
     "output_type": "execute_result"
    }
   ],
   "source": [
    "train_data[0]"
   ]
  },
  {
   "cell_type": "code",
   "execution_count": 9,
   "metadata": {},
   "outputs": [
    {
     "data": {
      "text/plain": [
       "'Mary moved to the bathroom . Sandra journeyed to the bedroom .'"
      ]
     },
     "execution_count": 9,
     "metadata": {},
     "output_type": "execute_result"
    }
   ],
   "source": [
    "' '.join(train_data[0][0])"
   ]
  },
  {
   "cell_type": "code",
   "execution_count": 10,
   "metadata": {},
   "outputs": [
    {
     "data": {
      "text/plain": [
       "'Is Sandra in the hallway ?'"
      ]
     },
     "execution_count": 10,
     "metadata": {},
     "output_type": "execute_result"
    }
   ],
   "source": [
    "' '.join(train_data[0][1])"
   ]
  },
  {
   "cell_type": "code",
   "execution_count": 11,
   "metadata": {},
   "outputs": [
    {
     "data": {
      "text/plain": [
       "'no'"
      ]
     },
     "execution_count": 11,
     "metadata": {},
     "output_type": "execute_result"
    }
   ],
   "source": [
    "train_data[0][2]"
   ]
  },
  {
   "cell_type": "markdown",
   "metadata": {},
   "source": [
    "- Our data is containig the tuple of 3 lists first one contaning the story , second one with the question related to that story and third with the answer."
   ]
  },
  {
   "cell_type": "markdown",
   "metadata": {},
   "source": [
    "-----\n",
    "\n",
    "## Setting up Vocabulary of All Words"
   ]
  },
  {
   "cell_type": "code",
   "execution_count": 12,
   "metadata": {},
   "outputs": [],
   "source": [
    "# Create a set that holds the vocab words\n",
    "vocab = set()"
   ]
  },
  {
   "cell_type": "code",
   "execution_count": 13,
   "metadata": {},
   "outputs": [],
   "source": [
    "# Combining the test and train data set for the vocab\n",
    "all_data = test_data + train_data\n",
    "\n",
    "#print(all_data[:10])"
   ]
  },
  {
   "cell_type": "code",
   "execution_count": 14,
   "metadata": {},
   "outputs": [],
   "source": [
    "# Addiding story, question and anwer words to the vocab\n",
    "for story, question , answer in all_data:\n",
    "   \n",
    "    vocab = vocab.union(set(story))\n",
    "    vocab = vocab.union(set(question))"
   ]
  },
  {
   "cell_type": "code",
   "execution_count": 15,
   "metadata": {},
   "outputs": [],
   "source": [
    "vocab.add('no')\n",
    "vocab.add('yes')"
   ]
  },
  {
   "cell_type": "code",
   "execution_count": 16,
   "metadata": {},
   "outputs": [
    {
     "data": {
      "text/plain": [
       "{'.',\n",
       " '?',\n",
       " 'Daniel',\n",
       " 'Is',\n",
       " 'John',\n",
       " 'Mary',\n",
       " 'Sandra',\n",
       " 'apple',\n",
       " 'back',\n",
       " 'bathroom',\n",
       " 'bedroom',\n",
       " 'discarded',\n",
       " 'down',\n",
       " 'dropped',\n",
       " 'football',\n",
       " 'garden',\n",
       " 'got',\n",
       " 'grabbed',\n",
       " 'hallway',\n",
       " 'in',\n",
       " 'journeyed',\n",
       " 'kitchen',\n",
       " 'left',\n",
       " 'milk',\n",
       " 'moved',\n",
       " 'no',\n",
       " 'office',\n",
       " 'picked',\n",
       " 'put',\n",
       " 'the',\n",
       " 'there',\n",
       " 'to',\n",
       " 'took',\n",
       " 'travelled',\n",
       " 'up',\n",
       " 'went',\n",
       " 'yes'}"
      ]
     },
     "execution_count": 16,
     "metadata": {},
     "output_type": "execute_result"
    }
   ],
   "source": [
    "vocab"
   ]
  },
  {
   "cell_type": "code",
   "execution_count": 17,
   "metadata": {},
   "outputs": [
    {
     "data": {
      "text/plain": [
       "37"
      ]
     },
     "execution_count": 17,
     "metadata": {},
     "output_type": "execute_result"
    }
   ],
   "source": [
    "len(vocab)"
   ]
  },
  {
   "cell_type": "code",
   "execution_count": 18,
   "metadata": {},
   "outputs": [],
   "source": [
    "vocab_len = len(vocab) + 1 #we add an extra space to hold a 0 for Keras's pad_sequences"
   ]
  },
  {
   "cell_type": "code",
   "execution_count": 19,
   "metadata": {},
   "outputs": [],
   "source": [
    "max_story_len = max([len(data[0]) for data in all_data])"
   ]
  },
  {
   "cell_type": "code",
   "execution_count": 20,
   "metadata": {},
   "outputs": [
    {
     "data": {
      "text/plain": [
       "156"
      ]
     },
     "execution_count": 20,
     "metadata": {},
     "output_type": "execute_result"
    }
   ],
   "source": [
    "max_story_len"
   ]
  },
  {
   "cell_type": "code",
   "execution_count": 21,
   "metadata": {},
   "outputs": [],
   "source": [
    "max_question_len = max([len(data[1]) for data in all_data])"
   ]
  },
  {
   "cell_type": "code",
   "execution_count": 22,
   "metadata": {},
   "outputs": [
    {
     "data": {
      "text/plain": [
       "6"
      ]
     },
     "execution_count": 22,
     "metadata": {},
     "output_type": "execute_result"
    }
   ],
   "source": [
    "max_question_len"
   ]
  },
  {
   "cell_type": "markdown",
   "metadata": {},
   "source": [
    "## Vectorizing the Data"
   ]
  },
  {
   "cell_type": "code",
   "execution_count": 23,
   "metadata": {},
   "outputs": [
    {
     "data": {
      "text/plain": [
       "{'.',\n",
       " '?',\n",
       " 'Daniel',\n",
       " 'Is',\n",
       " 'John',\n",
       " 'Mary',\n",
       " 'Sandra',\n",
       " 'apple',\n",
       " 'back',\n",
       " 'bathroom',\n",
       " 'bedroom',\n",
       " 'discarded',\n",
       " 'down',\n",
       " 'dropped',\n",
       " 'football',\n",
       " 'garden',\n",
       " 'got',\n",
       " 'grabbed',\n",
       " 'hallway',\n",
       " 'in',\n",
       " 'journeyed',\n",
       " 'kitchen',\n",
       " 'left',\n",
       " 'milk',\n",
       " 'moved',\n",
       " 'no',\n",
       " 'office',\n",
       " 'picked',\n",
       " 'put',\n",
       " 'the',\n",
       " 'there',\n",
       " 'to',\n",
       " 'took',\n",
       " 'travelled',\n",
       " 'up',\n",
       " 'went',\n",
       " 'yes'}"
      ]
     },
     "execution_count": 23,
     "metadata": {},
     "output_type": "execute_result"
    }
   ],
   "source": [
    "vocab"
   ]
  },
  {
   "cell_type": "code",
   "execution_count": 24,
   "metadata": {},
   "outputs": [],
   "source": [
    "# Reserve 0 for pad_sequences\n",
    "vocab_size = len(vocab) + 1"
   ]
  },
  {
   "cell_type": "markdown",
   "metadata": {},
   "source": [
    "-----------"
   ]
  },
  {
   "cell_type": "code",
   "execution_count": 25,
   "metadata": {},
   "outputs": [
    {
     "name": "stderr",
     "output_type": "stream",
     "text": [
      "Using TensorFlow backend.\n"
     ]
    }
   ],
   "source": [
    "from keras.preprocessing.sequence import pad_sequences\n",
    "from keras.preprocessing.text import Tokenizer"
   ]
  },
  {
   "cell_type": "code",
   "execution_count": 26,
   "metadata": {},
   "outputs": [],
   "source": [
    "# integer encode sequences of words\n",
    "\n",
    "tokenizer = Tokenizer(filters=[])\n",
    "tokenizer.fit_on_texts(vocab)"
   ]
  },
  {
   "cell_type": "code",
   "execution_count": 27,
   "metadata": {},
   "outputs": [
    {
     "data": {
      "text/plain": [
       "{'down': 1,\n",
       " 'kitchen': 2,\n",
       " 'john': 3,\n",
       " 'bedroom': 4,\n",
       " 'grabbed': 5,\n",
       " 'picked': 6,\n",
       " 'travelled': 7,\n",
       " 'up': 8,\n",
       " 'office': 9,\n",
       " 'is': 10,\n",
       " 'no': 11,\n",
       " 'yes': 12,\n",
       " 'went': 13,\n",
       " 'took': 14,\n",
       " 'bathroom': 15,\n",
       " '?': 16,\n",
       " 'mary': 17,\n",
       " 'back': 18,\n",
       " 'discarded': 19,\n",
       " 'daniel': 20,\n",
       " 'milk': 21,\n",
       " 'apple': 22,\n",
       " 'in': 23,\n",
       " 'journeyed': 24,\n",
       " 'moved': 25,\n",
       " 'sandra': 26,\n",
       " 'put': 27,\n",
       " 'left': 28,\n",
       " 'there': 29,\n",
       " 'garden': 30,\n",
       " 'got': 31,\n",
       " 'dropped': 32,\n",
       " 'to': 33,\n",
       " 'football': 34,\n",
       " 'hallway': 35,\n",
       " '.': 36,\n",
       " 'the': 37}"
      ]
     },
     "execution_count": 27,
     "metadata": {},
     "output_type": "execute_result"
    }
   ],
   "source": [
    "tokenizer.word_index"
   ]
  },
  {
   "cell_type": "code",
   "execution_count": 28,
   "metadata": {},
   "outputs": [],
   "source": [
    "train_story_text = []\n",
    "train_question_text = []\n",
    "train_answers = []\n",
    "\n",
    "for story,question,answer in train_data:\n",
    "    train_story_text.append(story)\n",
    "    train_question_text.append(question)"
   ]
  },
  {
   "cell_type": "code",
   "execution_count": 29,
   "metadata": {},
   "outputs": [],
   "source": [
    "train_story_seq = tokenizer.texts_to_sequences(train_story_text)"
   ]
  },
  {
   "cell_type": "code",
   "execution_count": 30,
   "metadata": {},
   "outputs": [
    {
     "data": {
      "text/plain": [
       "10000"
      ]
     },
     "execution_count": 30,
     "metadata": {},
     "output_type": "execute_result"
    }
   ],
   "source": [
    "len(train_story_text)"
   ]
  },
  {
   "cell_type": "code",
   "execution_count": 31,
   "metadata": {},
   "outputs": [
    {
     "data": {
      "text/plain": [
       "10000"
      ]
     },
     "execution_count": 31,
     "metadata": {},
     "output_type": "execute_result"
    }
   ],
   "source": [
    "len(train_story_seq)"
   ]
  },
  {
   "cell_type": "code",
   "execution_count": 32,
   "metadata": {},
   "outputs": [],
   "source": [
    "# word_index = tokenizer.word_index"
   ]
  },
  {
   "cell_type": "markdown",
   "metadata": {},
   "source": [
    "### Functionalize Vectorization"
   ]
  },
  {
   "cell_type": "code",
   "execution_count": 33,
   "metadata": {},
   "outputs": [],
   "source": [
    "def vectorize_stories(data, word_index=tokenizer.word_index, max_story_len=max_story_len,max_question_len=max_question_len):\n",
    "    \n",
    "    '''\n",
    "    INPUT: \n",
    "    \n",
    "    data: consisting of Stories,Queries,and Answers\n",
    "    word_index: word index dictionary from tokenizer\n",
    "    max_story_len: the length of the longest story (used for pad_sequences function)\n",
    "    max_question_len: length of the longest question (used for pad_sequences function)\n",
    "\n",
    "\n",
    "    OUTPUT:\n",
    "    \n",
    "    Vectorizes the stories,questions, and answers into padded sequences. We first loop for every story, query , and\n",
    "    answer in the data. Then we convert the raw words to an word index value. Then we append each set to their appropriate\n",
    "    output list. Then once we have converted the words to numbers, we pad the sequences so they are all of equal length.\n",
    "    \n",
    "    Returns this in the form of a tuple (X,Xq,Y) (padded based on max lengths)\n",
    "    \n",
    "    '''\n",
    "    \n",
    "    \n",
    "    # X = STORIES\n",
    "    X = []\n",
    "    # Xq = QUERY/QUESTION\n",
    "    Xq = []\n",
    "    # Y = CORRECT ANSWER\n",
    "    Y = []\n",
    "    \n",
    "    \n",
    "    for story, query, answer in data:\n",
    "        \n",
    "        # Grab the word index for every word in story\n",
    "        x = [word_index[word.lower()] for word in story]\n",
    "        # Grab the word index for every word in query\n",
    "        xq = [word_index[word.lower()] for word in query]\n",
    "        \n",
    "        # Grab the Answers (either Yes/No so we don't need to use list comprehension here)\n",
    "        # Index 0 is reserved so we're going to use + 1\n",
    "        y = np.zeros(len(word_index) + 1)\n",
    "        \n",
    "        # Now that y is all zeros and we know its just Yes/No , we can use numpy logic to create this assignment\n",
    "        \n",
    "        y[word_index[answer]] = 1\n",
    "        \n",
    "        # Append each set of story,query, and answer to their respective holding lists\n",
    "        X.append(x)\n",
    "        Xq.append(xq)\n",
    "        Y.append(y)\n",
    "        \n",
    "    # Finally, pad the sequences based on their max length so the RNN can be trained on uniformly long sequences.\n",
    "        \n",
    "    # RETURN TUPLE FOR UNPACKING\n",
    "    return (pad_sequences(X, maxlen=max_story_len),pad_sequences(Xq, maxlen=max_question_len), np.array(Y))"
   ]
  },
  {
   "cell_type": "code",
   "execution_count": 34,
   "metadata": {},
   "outputs": [],
   "source": [
    "inputs_train, queries_train, answers_train = vectorize_stories(train_data)"
   ]
  },
  {
   "cell_type": "code",
   "execution_count": 35,
   "metadata": {},
   "outputs": [],
   "source": [
    "inputs_test, queries_test, answers_test = vectorize_stories(test_data)"
   ]
  },
  {
   "cell_type": "code",
   "execution_count": 36,
   "metadata": {},
   "outputs": [
    {
     "data": {
      "text/plain": [
       "array([[ 0,  0,  0, ..., 37,  4, 36],\n",
       "       [ 0,  0,  0, ..., 37, 30, 36],\n",
       "       [ 0,  0,  0, ..., 37, 30, 36],\n",
       "       ...,\n",
       "       [ 0,  0,  0, ..., 37, 22, 36],\n",
       "       [ 0,  0,  0, ..., 37, 30, 36],\n",
       "       [ 0,  0,  0, ..., 22, 29, 36]], dtype=int32)"
      ]
     },
     "execution_count": 36,
     "metadata": {},
     "output_type": "execute_result"
    }
   ],
   "source": [
    "inputs_test"
   ]
  },
  {
   "cell_type": "code",
   "execution_count": 37,
   "metadata": {},
   "outputs": [
    {
     "data": {
      "text/plain": [
       "array([[10,  3, 23, 37,  2, 16],\n",
       "       [10,  3, 23, 37,  2, 16],\n",
       "       [10,  3, 23, 37, 30, 16],\n",
       "       ...,\n",
       "       [10, 17, 23, 37,  4, 16],\n",
       "       [10, 26, 23, 37, 30, 16],\n",
       "       [10, 17, 23, 37, 30, 16]], dtype=int32)"
      ]
     },
     "execution_count": 37,
     "metadata": {},
     "output_type": "execute_result"
    }
   ],
   "source": [
    "queries_test"
   ]
  },
  {
   "cell_type": "code",
   "execution_count": 38,
   "metadata": {},
   "outputs": [
    {
     "data": {
      "text/plain": [
       "array([[0., 0., 0., ..., 0., 0., 0.],\n",
       "       [0., 0., 0., ..., 0., 0., 0.],\n",
       "       [0., 0., 0., ..., 0., 0., 0.],\n",
       "       ...,\n",
       "       [0., 0., 0., ..., 0., 0., 0.],\n",
       "       [0., 0., 0., ..., 0., 0., 0.],\n",
       "       [0., 0., 0., ..., 0., 0., 0.]])"
      ]
     },
     "execution_count": 38,
     "metadata": {},
     "output_type": "execute_result"
    }
   ],
   "source": [
    "answers_test"
   ]
  },
  {
   "cell_type": "code",
   "execution_count": 39,
   "metadata": {},
   "outputs": [
    {
     "data": {
      "text/plain": [
       "array([  0.,   0.,   0.,   0.,   0.,   0.,   0.,   0.,   0.,   0.,   0.,\n",
       "       503., 497.,   0.,   0.,   0.,   0.,   0.,   0.,   0.,   0.,   0.,\n",
       "         0.,   0.,   0.,   0.,   0.,   0.,   0.,   0.,   0.,   0.,   0.,\n",
       "         0.,   0.,   0.,   0.,   0.])"
      ]
     },
     "execution_count": 39,
     "metadata": {},
     "output_type": "execute_result"
    }
   ],
   "source": [
    "sum(answers_test)"
   ]
  },
  {
   "cell_type": "code",
   "execution_count": 40,
   "metadata": {},
   "outputs": [
    {
     "data": {
      "text/plain": [
       "12"
      ]
     },
     "execution_count": 40,
     "metadata": {},
     "output_type": "execute_result"
    }
   ],
   "source": [
    "tokenizer.word_index['yes']"
   ]
  },
  {
   "cell_type": "code",
   "execution_count": 41,
   "metadata": {},
   "outputs": [
    {
     "data": {
      "text/plain": [
       "11"
      ]
     },
     "execution_count": 41,
     "metadata": {},
     "output_type": "execute_result"
    }
   ],
   "source": [
    "tokenizer.word_index['no']"
   ]
  },
  {
   "cell_type": "markdown",
   "metadata": {},
   "source": [
    "## Creating the Model"
   ]
  },
  {
   "cell_type": "code",
   "execution_count": 42,
   "metadata": {},
   "outputs": [],
   "source": [
    "from keras.models import Sequential, Model\n",
    "from keras.layers.embeddings import Embedding\n",
    "from keras.layers import Input, Activation, Dense, Permute, Dropout\n",
    "from keras.layers import add, dot, concatenate\n",
    "from keras.layers import LSTM"
   ]
  },
  {
   "cell_type": "markdown",
   "metadata": {},
   "source": [
    "### Placeholders for Inputs\n",
    "\n",
    "Recall we technically have two inputs, stories and questions. So we need to use placeholders. `Input()` is used to instantiate a Keras tensor.\n"
   ]
  },
  {
   "cell_type": "code",
   "execution_count": 43,
   "metadata": {},
   "outputs": [],
   "source": [
    "input_sequence = Input((max_story_len,))\n",
    "question = Input((max_question_len,))"
   ]
  },
  {
   "cell_type": "markdown",
   "metadata": {
    "collapsed": true
   },
   "source": [
    "### Building the Networks\n",
    "\n",
    "This setup is based on the paper:\n",
    "\n",
    "* Sainbayar Sukhbaatar, Arthur Szlam, Jason Weston, Rob Fergus,\n",
    "  \"End-To-End Memory Networks\",\n",
    "  http://arxiv.org/abs/1503.08895"
   ]
  },
  {
   "cell_type": "markdown",
   "metadata": {},
   "source": [
    "<a href='http://arxiv.org/abs/1503.08895'> <img src='../Network.png' /></a>"
   ]
  },
  {
   "cell_type": "markdown",
   "metadata": {},
   "source": [
    "- (a): A single layer version of our model. \n",
    "- (b): A three layer version of our model. In practice, we can constrain several of the embedding matrices to be the same"
   ]
  },
  {
   "cell_type": "markdown",
   "metadata": {},
   "source": [
    "## Encoders\n",
    "\n",
    "### Input Encoder m"
   ]
  },
  {
   "cell_type": "code",
   "execution_count": 44,
   "metadata": {},
   "outputs": [
    {
     "name": "stdout",
     "output_type": "stream",
     "text": [
      "WARNING:tensorflow:From /Users/adarsh_iitd/opt/anaconda3/envs/nlp_course/lib/python3.7/site-packages/tensorflow/python/ops/resource_variable_ops.py:435: colocate_with (from tensorflow.python.framework.ops) is deprecated and will be removed in a future version.\n",
      "Instructions for updating:\n",
      "Colocations handled automatically by placer.\n"
     ]
    }
   ],
   "source": [
    "# Input gets embedded to a sequence of vectors\n",
    "input_encoder_m = Sequential()\n",
    "input_encoder_m.add(Embedding(input_dim=vocab_size,output_dim=64))\n",
    "input_encoder_m.add(Dropout(0.3))\n",
    "\n",
    "# This encoder will output:\n",
    "# (samples, story_maxlen, embedding_dim)"
   ]
  },
  {
   "cell_type": "markdown",
   "metadata": {},
   "source": [
    "### Input Encoder c"
   ]
  },
  {
   "cell_type": "code",
   "execution_count": 45,
   "metadata": {},
   "outputs": [],
   "source": [
    "# embed the input into a sequence of vectors of size query_maxlen\n",
    "input_encoder_c = Sequential()\n",
    "input_encoder_c.add(Embedding(input_dim=vocab_size,output_dim=max_question_len))\n",
    "input_encoder_c.add(Dropout(0.3))\n",
    "# output: (samples, story_maxlen, query_maxlen)"
   ]
  },
  {
   "cell_type": "markdown",
   "metadata": {},
   "source": [
    "### Question Encoder"
   ]
  },
  {
   "cell_type": "code",
   "execution_count": 46,
   "metadata": {},
   "outputs": [],
   "source": [
    "# embed the question into a sequence of vectors\n",
    "question_encoder = Sequential()\n",
    "question_encoder.add(Embedding(input_dim=vocab_size,\n",
    "                               output_dim=64,\n",
    "                               input_length=max_question_len))\n",
    "question_encoder.add(Dropout(0.3))\n",
    "# output: (samples, query_maxlen, embedding_dim)"
   ]
  },
  {
   "cell_type": "markdown",
   "metadata": {},
   "source": [
    "### Encode the Sequences"
   ]
  },
  {
   "cell_type": "code",
   "execution_count": 47,
   "metadata": {},
   "outputs": [],
   "source": [
    "# encode input sequence and questions (which are indices)\n",
    "# to sequences of dense vectors\n",
    "input_encoded_m = input_encoder_m(input_sequence)\n",
    "input_encoded_c = input_encoder_c(input_sequence)\n",
    "question_encoded = question_encoder(question)"
   ]
  },
  {
   "cell_type": "markdown",
   "metadata": {},
   "source": [
    "##### Use dot product to compute the match between first input vector seq and the query"
   ]
  },
  {
   "cell_type": "code",
   "execution_count": 48,
   "metadata": {},
   "outputs": [],
   "source": [
    "# shape: `(samples, story_maxlen, query_maxlen)`\n",
    "match = dot([input_encoded_m, question_encoded], axes=(2, 2))\n",
    "match = Activation('softmax')(match)"
   ]
  },
  {
   "cell_type": "markdown",
   "metadata": {},
   "source": [
    "#### Add this match matrix with the second input vector sequence"
   ]
  },
  {
   "cell_type": "code",
   "execution_count": 49,
   "metadata": {},
   "outputs": [],
   "source": [
    "# add the match matrix with the second input vector sequence\n",
    "response = add([match, input_encoded_c])  # (samples, story_maxlen, query_maxlen)\n",
    "response = Permute((2, 1))(response)  # (samples, query_maxlen, story_maxlen)"
   ]
  },
  {
   "cell_type": "markdown",
   "metadata": {},
   "source": [
    "#### Concatenate"
   ]
  },
  {
   "cell_type": "code",
   "execution_count": 50,
   "metadata": {},
   "outputs": [],
   "source": [
    "# concatenate the match matrix with the question vector sequence\n",
    "answer = concatenate([response, question_encoded])"
   ]
  },
  {
   "cell_type": "code",
   "execution_count": 51,
   "metadata": {},
   "outputs": [
    {
     "data": {
      "text/plain": [
       "<tf.Tensor 'concatenate_1/concat:0' shape=(?, 6, 220) dtype=float32>"
      ]
     },
     "execution_count": 51,
     "metadata": {},
     "output_type": "execute_result"
    }
   ],
   "source": [
    "answer"
   ]
  },
  {
   "cell_type": "code",
   "execution_count": 52,
   "metadata": {},
   "outputs": [],
   "source": [
    "# Reduce with RNN (LSTM)\n",
    "\n",
    "answer = LSTM(32)(answer)  # (samples, 32)"
   ]
  },
  {
   "cell_type": "code",
   "execution_count": 53,
   "metadata": {},
   "outputs": [],
   "source": [
    "# Regularization with Dropout\n",
    "\n",
    "answer = Dropout(0.5)(answer)\n",
    "answer = Dense(vocab_size)(answer)  # (samples, vocab_size)"
   ]
  },
  {
   "cell_type": "code",
   "execution_count": 54,
   "metadata": {},
   "outputs": [],
   "source": [
    "# we output a probability distribution over the vocabulary\n",
    "answer = Activation('softmax')(answer)\n",
    "\n",
    "# build the final model\n",
    "model = Model([input_sequence, question], answer)\n",
    "model.compile(optimizer='rmsprop', loss='categorical_crossentropy',\n",
    "              metrics=['accuracy'])"
   ]
  },
  {
   "cell_type": "code",
   "execution_count": 55,
   "metadata": {},
   "outputs": [
    {
     "name": "stdout",
     "output_type": "stream",
     "text": [
      "Model: \"model_1\"\n",
      "__________________________________________________________________________________________________\n",
      "Layer (type)                    Output Shape         Param #     Connected to                     \n",
      "==================================================================================================\n",
      "input_1 (InputLayer)            (None, 156)          0                                            \n",
      "__________________________________________________________________________________________________\n",
      "input_2 (InputLayer)            (None, 6)            0                                            \n",
      "__________________________________________________________________________________________________\n",
      "sequential_1 (Sequential)       multiple             2432        input_1[0][0]                    \n",
      "__________________________________________________________________________________________________\n",
      "sequential_3 (Sequential)       (None, 6, 64)        2432        input_2[0][0]                    \n",
      "__________________________________________________________________________________________________\n",
      "dot_1 (Dot)                     (None, 156, 6)       0           sequential_1[1][0]               \n",
      "                                                                 sequential_3[1][0]               \n",
      "__________________________________________________________________________________________________\n",
      "activation_1 (Activation)       (None, 156, 6)       0           dot_1[0][0]                      \n",
      "__________________________________________________________________________________________________\n",
      "sequential_2 (Sequential)       multiple             228         input_1[0][0]                    \n",
      "__________________________________________________________________________________________________\n",
      "add_1 (Add)                     (None, 156, 6)       0           activation_1[0][0]               \n",
      "                                                                 sequential_2[1][0]               \n",
      "__________________________________________________________________________________________________\n",
      "permute_1 (Permute)             (None, 6, 156)       0           add_1[0][0]                      \n",
      "__________________________________________________________________________________________________\n",
      "concatenate_1 (Concatenate)     (None, 6, 220)       0           permute_1[0][0]                  \n",
      "                                                                 sequential_3[1][0]               \n",
      "__________________________________________________________________________________________________\n",
      "lstm_1 (LSTM)                   (None, 32)           32384       concatenate_1[0][0]              \n",
      "__________________________________________________________________________________________________\n",
      "dropout_4 (Dropout)             (None, 32)           0           lstm_1[0][0]                     \n",
      "__________________________________________________________________________________________________\n",
      "dense_1 (Dense)                 (None, 38)           1254        dropout_4[0][0]                  \n",
      "__________________________________________________________________________________________________\n",
      "activation_2 (Activation)       (None, 38)           0           dense_1[0][0]                    \n",
      "==================================================================================================\n",
      "Total params: 38,730\n",
      "Trainable params: 38,730\n",
      "Non-trainable params: 0\n",
      "__________________________________________________________________________________________________\n"
     ]
    }
   ],
   "source": [
    "model.summary()"
   ]
  },
  {
   "cell_type": "code",
   "execution_count": 66,
   "metadata": {},
   "outputs": [
    {
     "name": "stdout",
     "output_type": "stream",
     "text": [
      "WARNING:tensorflow:From /Users/adarsh_iitd/opt/anaconda3/envs/nlp_course/lib/python3.7/site-packages/tensorflow/python/ops/math_ops.py:3066: to_int32 (from tensorflow.python.ops.math_ops) is deprecated and will be removed in a future version.\n",
      "Instructions for updating:\n",
      "Use tf.cast instead.\n",
      "WARNING:tensorflow:From /Users/adarsh_iitd/opt/anaconda3/envs/nlp_course/lib/python3.7/site-packages/tensorflow/python/ops/math_grad.py:102: div (from tensorflow.python.ops.math_ops) is deprecated and will be removed in a future version.\n",
      "Instructions for updating:\n",
      "Deprecated in favor of operator or tf.math.divide.\n",
      "Train on 10000 samples, validate on 1000 samples\n",
      "Epoch 1/120\n",
      "10000/10000 [==============================] - 21s 2ms/step - loss: 1.6821 - accuracy: 0.4652 - val_loss: 0.6899 - val_accuracy: 0.5750\n",
      "Epoch 2/120\n",
      "10000/10000 [==============================] - 18s 2ms/step - loss: 0.6929 - accuracy: 0.5440 - val_loss: 0.6703 - val_accuracy: 0.5980\n",
      "Epoch 3/120\n",
      "10000/10000 [==============================] - 19s 2ms/step - loss: 0.6580 - accuracy: 0.6084 - val_loss: 0.6228 - val_accuracy: 0.6690\n",
      "Epoch 4/120\n",
      "10000/10000 [==============================] - 20s 2ms/step - loss: 0.6081 - accuracy: 0.6784 - val_loss: 0.5323 - val_accuracy: 0.7640\n",
      "Epoch 5/120\n",
      "10000/10000 [==============================] - 20s 2ms/step - loss: 0.5394 - accuracy: 0.7460 - val_loss: 0.4574 - val_accuracy: 0.8030\n",
      "Epoch 6/120\n",
      "10000/10000 [==============================] - 21s 2ms/step - loss: 0.4708 - accuracy: 0.7906 - val_loss: 0.4412 - val_accuracy: 0.8240\n",
      "Epoch 7/120\n",
      "10000/10000 [==============================] - 18s 2ms/step - loss: 0.4427 - accuracy: 0.8089 - val_loss: 0.4130 - val_accuracy: 0.8320\n",
      "Epoch 8/120\n",
      "10000/10000 [==============================] - 18s 2ms/step - loss: 0.4135 - accuracy: 0.8270 - val_loss: 0.3912 - val_accuracy: 0.8300\n",
      "Epoch 9/120\n",
      "10000/10000 [==============================] - 19s 2ms/step - loss: 0.3909 - accuracy: 0.8385 - val_loss: 0.4091 - val_accuracy: 0.8320\n",
      "Epoch 10/120\n",
      "10000/10000 [==============================] - 21s 2ms/step - loss: 0.3872 - accuracy: 0.8398 - val_loss: 0.3856 - val_accuracy: 0.8370\n",
      "Epoch 11/120\n",
      "10000/10000 [==============================] - 18s 2ms/step - loss: 0.3821 - accuracy: 0.8413 - val_loss: 0.3868 - val_accuracy: 0.8450\n",
      "Epoch 12/120\n",
      "10000/10000 [==============================] - 20s 2ms/step - loss: 0.3728 - accuracy: 0.8485 - val_loss: 0.3711 - val_accuracy: 0.8430\n",
      "Epoch 13/120\n",
      "10000/10000 [==============================] - 18s 2ms/step - loss: 0.3628 - accuracy: 0.8496 - val_loss: 0.3745 - val_accuracy: 0.8380\n",
      "Epoch 14/120\n",
      "10000/10000 [==============================] - 18s 2ms/step - loss: 0.3596 - accuracy: 0.8516 - val_loss: 0.3748 - val_accuracy: 0.8400\n",
      "Epoch 15/120\n",
      "10000/10000 [==============================] - 20s 2ms/step - loss: 0.3540 - accuracy: 0.8544 - val_loss: 0.3803 - val_accuracy: 0.8310\n",
      "Epoch 16/120\n",
      "10000/10000 [==============================] - 18s 2ms/step - loss: 0.3534 - accuracy: 0.8543 - val_loss: 0.3815 - val_accuracy: 0.8290\n",
      "Epoch 17/120\n",
      "10000/10000 [==============================] - 19s 2ms/step - loss: 0.3466 - accuracy: 0.8572 - val_loss: 0.3623 - val_accuracy: 0.8420\n",
      "Epoch 18/120\n",
      "10000/10000 [==============================] - 18s 2ms/step - loss: 0.3366 - accuracy: 0.8590 - val_loss: 0.3596 - val_accuracy: 0.8400\n",
      "Epoch 19/120\n",
      "10000/10000 [==============================] - 18s 2ms/step - loss: 0.3384 - accuracy: 0.8606 - val_loss: 0.3481 - val_accuracy: 0.8400\n",
      "Epoch 20/120\n",
      "10000/10000 [==============================] - 19s 2ms/step - loss: 0.3366 - accuracy: 0.8605 - val_loss: 0.3558 - val_accuracy: 0.8330\n",
      "Epoch 21/120\n",
      "10000/10000 [==============================] - 18s 2ms/step - loss: 0.3321 - accuracy: 0.8635 - val_loss: 0.3592 - val_accuracy: 0.8380\n",
      "Epoch 22/120\n",
      "10000/10000 [==============================] - 18s 2ms/step - loss: 0.3343 - accuracy: 0.8600 - val_loss: 0.3508 - val_accuracy: 0.8410\n",
      "Epoch 23/120\n",
      "10000/10000 [==============================] - 20s 2ms/step - loss: 0.3267 - accuracy: 0.8616 - val_loss: 0.3550 - val_accuracy: 0.8340\n",
      "Epoch 24/120\n",
      "10000/10000 [==============================] - 19s 2ms/step - loss: 0.3317 - accuracy: 0.8628 - val_loss: 0.3570 - val_accuracy: 0.8350\n",
      "Epoch 25/120\n",
      "10000/10000 [==============================] - 20s 2ms/step - loss: 0.3224 - accuracy: 0.8643 - val_loss: 0.3534 - val_accuracy: 0.8270\n",
      "Epoch 26/120\n",
      "10000/10000 [==============================] - 18s 2ms/step - loss: 0.3231 - accuracy: 0.8636 - val_loss: 0.3631 - val_accuracy: 0.8390\n",
      "Epoch 27/120\n",
      "10000/10000 [==============================] - 19s 2ms/step - loss: 0.3196 - accuracy: 0.8685 - val_loss: 0.3367 - val_accuracy: 0.8480\n",
      "Epoch 28/120\n",
      "10000/10000 [==============================] - 19s 2ms/step - loss: 0.3168 - accuracy: 0.8646 - val_loss: 0.3663 - val_accuracy: 0.8330\n",
      "Epoch 29/120\n",
      "10000/10000 [==============================] - 19s 2ms/step - loss: 0.3180 - accuracy: 0.8650 - val_loss: 0.3603 - val_accuracy: 0.8380\n",
      "Epoch 30/120\n",
      "10000/10000 [==============================] - 20s 2ms/step - loss: 0.3132 - accuracy: 0.8702 - val_loss: 0.3552 - val_accuracy: 0.8390\n",
      "Epoch 31/120\n",
      "10000/10000 [==============================] - 19s 2ms/step - loss: 0.3155 - accuracy: 0.8686 - val_loss: 0.3520 - val_accuracy: 0.8420\n",
      "Epoch 32/120\n",
      "10000/10000 [==============================] - 19s 2ms/step - loss: 0.3149 - accuracy: 0.8656 - val_loss: 0.3425 - val_accuracy: 0.8400\n",
      "Epoch 33/120\n",
      "10000/10000 [==============================] - 19s 2ms/step - loss: 0.3127 - accuracy: 0.8676 - val_loss: 0.3567 - val_accuracy: 0.8360\n",
      "Epoch 34/120\n",
      "10000/10000 [==============================] - 19s 2ms/step - loss: 0.3091 - accuracy: 0.8700 - val_loss: 0.3470 - val_accuracy: 0.8470\n",
      "Epoch 35/120\n",
      "10000/10000 [==============================] - 19s 2ms/step - loss: 0.3104 - accuracy: 0.8704 - val_loss: 0.3544 - val_accuracy: 0.8440\n",
      "Epoch 36/120\n",
      "10000/10000 [==============================] - 19s 2ms/step - loss: 0.3101 - accuracy: 0.8688 - val_loss: 0.3421 - val_accuracy: 0.8390\n",
      "Epoch 37/120\n",
      "10000/10000 [==============================] - 19s 2ms/step - loss: 0.3014 - accuracy: 0.8727 - val_loss: 0.3539 - val_accuracy: 0.8440\n",
      "Epoch 38/120\n",
      "10000/10000 [==============================] - 19s 2ms/step - loss: 0.3046 - accuracy: 0.8701 - val_loss: 0.3541 - val_accuracy: 0.8470\n",
      "Epoch 39/120\n",
      "10000/10000 [==============================] - 19s 2ms/step - loss: 0.3077 - accuracy: 0.8684 - val_loss: 0.3390 - val_accuracy: 0.8520\n",
      "Epoch 40/120\n",
      "10000/10000 [==============================] - 22s 2ms/step - loss: 0.3045 - accuracy: 0.8704 - val_loss: 0.3412 - val_accuracy: 0.8480\n",
      "Epoch 41/120\n",
      "10000/10000 [==============================] - 20s 2ms/step - loss: 0.3040 - accuracy: 0.8726 - val_loss: 0.3399 - val_accuracy: 0.8460\n",
      "Epoch 42/120\n",
      "10000/10000 [==============================] - 19s 2ms/step - loss: 0.3012 - accuracy: 0.8736 - val_loss: 0.3580 - val_accuracy: 0.8390\n",
      "Epoch 43/120\n",
      "10000/10000 [==============================] - 19s 2ms/step - loss: 0.2961 - accuracy: 0.8735 - val_loss: 0.3603 - val_accuracy: 0.8410\n",
      "Epoch 44/120\n",
      "10000/10000 [==============================] - 19s 2ms/step - loss: 0.2964 - accuracy: 0.8734 - val_loss: 0.3478 - val_accuracy: 0.8460\n",
      "Epoch 45/120\n",
      "10000/10000 [==============================] - 18s 2ms/step - loss: 0.2957 - accuracy: 0.8754 - val_loss: 0.3377 - val_accuracy: 0.8480\n",
      "Epoch 46/120\n",
      "10000/10000 [==============================] - 18s 2ms/step - loss: 0.2920 - accuracy: 0.8752 - val_loss: 0.3380 - val_accuracy: 0.8530\n",
      "Epoch 47/120\n",
      "10000/10000 [==============================] - 20s 2ms/step - loss: 0.2952 - accuracy: 0.8742 - val_loss: 0.3425 - val_accuracy: 0.8490\n",
      "Epoch 48/120\n",
      "10000/10000 [==============================] - 19s 2ms/step - loss: 0.2959 - accuracy: 0.8778 - val_loss: 0.3535 - val_accuracy: 0.8510\n",
      "Epoch 49/120\n",
      "10000/10000 [==============================] - 20s 2ms/step - loss: 0.2875 - accuracy: 0.8806 - val_loss: 0.3613 - val_accuracy: 0.8510\n",
      "Epoch 50/120\n",
      "10000/10000 [==============================] - 19s 2ms/step - loss: 0.2856 - accuracy: 0.8824 - val_loss: 0.3581 - val_accuracy: 0.8450\n",
      "Epoch 51/120\n"
     ]
    },
    {
     "name": "stdout",
     "output_type": "stream",
     "text": [
      "10000/10000 [==============================] - 19s 2ms/step - loss: 0.2804 - accuracy: 0.8858 - val_loss: 0.3384 - val_accuracy: 0.8460\n",
      "Epoch 52/120\n",
      "10000/10000 [==============================] - 22s 2ms/step - loss: 0.2815 - accuracy: 0.8841 - val_loss: 0.3411 - val_accuracy: 0.8490\n",
      "Epoch 53/120\n",
      "10000/10000 [==============================] - 20s 2ms/step - loss: 0.2739 - accuracy: 0.8834 - val_loss: 0.3207 - val_accuracy: 0.8540\n",
      "Epoch 54/120\n",
      "10000/10000 [==============================] - 21s 2ms/step - loss: 0.2676 - accuracy: 0.8898 - val_loss: 0.3117 - val_accuracy: 0.8600\n",
      "Epoch 55/120\n",
      "10000/10000 [==============================] - 20s 2ms/step - loss: 0.2581 - accuracy: 0.8929 - val_loss: 0.3215 - val_accuracy: 0.8700\n",
      "Epoch 56/120\n",
      "10000/10000 [==============================] - 18s 2ms/step - loss: 0.2547 - accuracy: 0.8942 - val_loss: 0.2991 - val_accuracy: 0.8670\n",
      "Epoch 57/120\n",
      "10000/10000 [==============================] - 17s 2ms/step - loss: 0.2451 - accuracy: 0.8966 - val_loss: 0.2916 - val_accuracy: 0.8680\n",
      "Epoch 58/120\n",
      "10000/10000 [==============================] - 17s 2ms/step - loss: 0.2399 - accuracy: 0.8986 - val_loss: 0.2779 - val_accuracy: 0.8850\n",
      "Epoch 59/120\n",
      "10000/10000 [==============================] - 18s 2ms/step - loss: 0.2321 - accuracy: 0.9066 - val_loss: 0.2694 - val_accuracy: 0.8820\n",
      "Epoch 60/120\n",
      "10000/10000 [==============================] - 19s 2ms/step - loss: 0.2242 - accuracy: 0.9094 - val_loss: 0.2583 - val_accuracy: 0.8920\n",
      "Epoch 61/120\n",
      "10000/10000 [==============================] - 20s 2ms/step - loss: 0.2148 - accuracy: 0.9122 - val_loss: 0.2560 - val_accuracy: 0.8930\n",
      "Epoch 62/120\n",
      "10000/10000 [==============================] - 20s 2ms/step - loss: 0.2135 - accuracy: 0.9136 - val_loss: 0.2404 - val_accuracy: 0.9040\n",
      "Epoch 63/120\n",
      "10000/10000 [==============================] - 19s 2ms/step - loss: 0.2054 - accuracy: 0.9171 - val_loss: 0.2557 - val_accuracy: 0.8930\n",
      "Epoch 64/120\n",
      "10000/10000 [==============================] - 18s 2ms/step - loss: 0.2005 - accuracy: 0.9199 - val_loss: 0.2424 - val_accuracy: 0.8950\n",
      "Epoch 65/120\n",
      "10000/10000 [==============================] - 20s 2ms/step - loss: 0.1958 - accuracy: 0.9211 - val_loss: 0.2343 - val_accuracy: 0.9040\n",
      "Epoch 66/120\n",
      "10000/10000 [==============================] - 21s 2ms/step - loss: 0.1934 - accuracy: 0.9202 - val_loss: 0.2258 - val_accuracy: 0.9070\n",
      "Epoch 67/120\n",
      "10000/10000 [==============================] - 22s 2ms/step - loss: 0.1901 - accuracy: 0.9220 - val_loss: 0.2378 - val_accuracy: 0.8990\n",
      "Epoch 68/120\n",
      "10000/10000 [==============================] - 22s 2ms/step - loss: 0.1940 - accuracy: 0.9227 - val_loss: 0.2241 - val_accuracy: 0.9030\n",
      "Epoch 69/120\n",
      "10000/10000 [==============================] - 23s 2ms/step - loss: 0.1822 - accuracy: 0.9271 - val_loss: 0.2243 - val_accuracy: 0.9110\n",
      "Epoch 70/120\n",
      "10000/10000 [==============================] - 23s 2ms/step - loss: 0.1826 - accuracy: 0.9239 - val_loss: 0.2498 - val_accuracy: 0.8980\n",
      "Epoch 71/120\n",
      "10000/10000 [==============================] - 22s 2ms/step - loss: 0.1785 - accuracy: 0.9288 - val_loss: 0.2247 - val_accuracy: 0.9020\n",
      "Epoch 72/120\n",
      "10000/10000 [==============================] - 23s 2ms/step - loss: 0.1838 - accuracy: 0.9269 - val_loss: 0.2345 - val_accuracy: 0.9030\n",
      "Epoch 73/120\n",
      "10000/10000 [==============================] - 22s 2ms/step - loss: 0.1818 - accuracy: 0.9261 - val_loss: 0.2413 - val_accuracy: 0.9010\n",
      "Epoch 74/120\n",
      "10000/10000 [==============================] - 22s 2ms/step - loss: 0.1761 - accuracy: 0.9323 - val_loss: 0.2406 - val_accuracy: 0.9090\n",
      "Epoch 75/120\n",
      "10000/10000 [==============================] - 22s 2ms/step - loss: 0.1748 - accuracy: 0.9304 - val_loss: 0.2519 - val_accuracy: 0.9030\n",
      "Epoch 76/120\n",
      "10000/10000 [==============================] - 20s 2ms/step - loss: 0.1770 - accuracy: 0.9292 - val_loss: 0.2309 - val_accuracy: 0.8980\n",
      "Epoch 77/120\n",
      "10000/10000 [==============================] - 21s 2ms/step - loss: 0.1732 - accuracy: 0.9288 - val_loss: 0.2341 - val_accuracy: 0.9020\n",
      "Epoch 78/120\n",
      "10000/10000 [==============================] - 21s 2ms/step - loss: 0.1713 - accuracy: 0.9317 - val_loss: 0.2592 - val_accuracy: 0.9080\n",
      "Epoch 79/120\n",
      "10000/10000 [==============================] - 22s 2ms/step - loss: 0.1781 - accuracy: 0.9273 - val_loss: 0.2222 - val_accuracy: 0.9080\n",
      "Epoch 80/120\n",
      "10000/10000 [==============================] - 22s 2ms/step - loss: 0.1737 - accuracy: 0.9288 - val_loss: 0.2455 - val_accuracy: 0.9120\n",
      "Epoch 81/120\n",
      "10000/10000 [==============================] - 22s 2ms/step - loss: 0.1679 - accuracy: 0.9332 - val_loss: 0.2305 - val_accuracy: 0.9050\n",
      "Epoch 82/120\n",
      "10000/10000 [==============================] - 21s 2ms/step - loss: 0.1663 - accuracy: 0.9342 - val_loss: 0.2283 - val_accuracy: 0.9110\n",
      "Epoch 83/120\n",
      "10000/10000 [==============================] - 22s 2ms/step - loss: 0.1668 - accuracy: 0.9336 - val_loss: 0.2314 - val_accuracy: 0.9070\n",
      "Epoch 84/120\n",
      "10000/10000 [==============================] - 23s 2ms/step - loss: 0.1658 - accuracy: 0.9364 - val_loss: 0.2294 - val_accuracy: 0.9020\n",
      "Epoch 85/120\n",
      "10000/10000 [==============================] - 32s 3ms/step - loss: 0.1687 - accuracy: 0.9342 - val_loss: 0.2256 - val_accuracy: 0.9070\n",
      "Epoch 86/120\n",
      "10000/10000 [==============================] - 20s 2ms/step - loss: 0.1667 - accuracy: 0.9347 - val_loss: 0.2491 - val_accuracy: 0.9000\n",
      "Epoch 87/120\n",
      "10000/10000 [==============================] - 22s 2ms/step - loss: 0.1636 - accuracy: 0.9321 - val_loss: 0.2263 - val_accuracy: 0.9080\n",
      "Epoch 88/120\n",
      "10000/10000 [==============================] - 20s 2ms/step - loss: 0.1628 - accuracy: 0.9346 - val_loss: 0.2654 - val_accuracy: 0.9020\n",
      "Epoch 89/120\n",
      "10000/10000 [==============================] - 19s 2ms/step - loss: 0.1667 - accuracy: 0.9339 - val_loss: 0.2375 - val_accuracy: 0.9050\n",
      "Epoch 90/120\n",
      "10000/10000 [==============================] - 21s 2ms/step - loss: 0.1701 - accuracy: 0.9344 - val_loss: 0.2296 - val_accuracy: 0.9120\n",
      "Epoch 91/120\n",
      "10000/10000 [==============================] - 20s 2ms/step - loss: 0.1626 - accuracy: 0.9384 - val_loss: 0.2298 - val_accuracy: 0.9130\n",
      "Epoch 92/120\n",
      "10000/10000 [==============================] - 20s 2ms/step - loss: 0.1653 - accuracy: 0.9327 - val_loss: 0.2431 - val_accuracy: 0.9050\n",
      "Epoch 93/120\n",
      "10000/10000 [==============================] - 20s 2ms/step - loss: 0.1568 - accuracy: 0.9375 - val_loss: 0.2440 - val_accuracy: 0.9090\n",
      "Epoch 94/120\n",
      "10000/10000 [==============================] - 21s 2ms/step - loss: 0.1609 - accuracy: 0.9383 - val_loss: 0.2475 - val_accuracy: 0.9110\n",
      "Epoch 95/120\n",
      "10000/10000 [==============================] - 20s 2ms/step - loss: 0.1637 - accuracy: 0.9356 - val_loss: 0.2569 - val_accuracy: 0.9110\n",
      "Epoch 96/120\n",
      "10000/10000 [==============================] - 21s 2ms/step - loss: 0.1583 - accuracy: 0.9409 - val_loss: 0.2332 - val_accuracy: 0.9140\n",
      "Epoch 97/120\n",
      "10000/10000 [==============================] - 22s 2ms/step - loss: 0.1606 - accuracy: 0.9344 - val_loss: 0.2361 - val_accuracy: 0.9150\n",
      "Epoch 98/120\n",
      "10000/10000 [==============================] - 22s 2ms/step - loss: 0.1566 - accuracy: 0.9383 - val_loss: 0.2187 - val_accuracy: 0.9130\n",
      "Epoch 99/120\n",
      "10000/10000 [==============================] - 21s 2ms/step - loss: 0.1575 - accuracy: 0.9401 - val_loss: 0.2163 - val_accuracy: 0.9170\n",
      "Epoch 100/120\n",
      "10000/10000 [==============================] - 19s 2ms/step - loss: 0.1541 - accuracy: 0.9401 - val_loss: 0.2488 - val_accuracy: 0.9060\n",
      "Epoch 101/120\n",
      "10000/10000 [==============================] - 18s 2ms/step - loss: 0.1512 - accuracy: 0.9421 - val_loss: 0.2373 - val_accuracy: 0.9110\n",
      "Epoch 102/120\n",
      "10000/10000 [==============================] - 18s 2ms/step - loss: 0.1546 - accuracy: 0.9382 - val_loss: 0.2277 - val_accuracy: 0.9100\n",
      "Epoch 103/120\n",
      "10000/10000 [==============================] - 18s 2ms/step - loss: 0.1505 - accuracy: 0.9385 - val_loss: 0.2439 - val_accuracy: 0.9080\n",
      "Epoch 104/120\n",
      "10000/10000 [==============================] - 18s 2ms/step - loss: 0.1536 - accuracy: 0.9400 - val_loss: 0.2466 - val_accuracy: 0.9170\n",
      "Epoch 105/120\n",
      "10000/10000 [==============================] - 18s 2ms/step - loss: 0.1566 - accuracy: 0.9393 - val_loss: 0.2434 - val_accuracy: 0.9090\n",
      "Epoch 106/120\n"
     ]
    },
    {
     "name": "stdout",
     "output_type": "stream",
     "text": [
      "10000/10000 [==============================] - 18s 2ms/step - loss: 0.1488 - accuracy: 0.9444 - val_loss: 0.2610 - val_accuracy: 0.9100\n",
      "Epoch 107/120\n",
      "10000/10000 [==============================] - 18s 2ms/step - loss: 0.1562 - accuracy: 0.9375 - val_loss: 0.2545 - val_accuracy: 0.8980\n",
      "Epoch 108/120\n",
      "10000/10000 [==============================] - 18s 2ms/step - loss: 0.1484 - accuracy: 0.9405 - val_loss: 0.2553 - val_accuracy: 0.9080\n",
      "Epoch 109/120\n",
      "10000/10000 [==============================] - 19s 2ms/step - loss: 0.1464 - accuracy: 0.9434 - val_loss: 0.2435 - val_accuracy: 0.9090\n",
      "Epoch 110/120\n",
      "10000/10000 [==============================] - 20s 2ms/step - loss: 0.1505 - accuracy: 0.9409 - val_loss: 0.2266 - val_accuracy: 0.9140\n",
      "Epoch 111/120\n",
      "10000/10000 [==============================] - 21s 2ms/step - loss: 0.1517 - accuracy: 0.9426 - val_loss: 0.2353 - val_accuracy: 0.9090\n",
      "Epoch 112/120\n",
      "10000/10000 [==============================] - 21s 2ms/step - loss: 0.1491 - accuracy: 0.9437 - val_loss: 0.2221 - val_accuracy: 0.9140\n",
      "Epoch 113/120\n",
      "10000/10000 [==============================] - 19s 2ms/step - loss: 0.1528 - accuracy: 0.9432 - val_loss: 0.2382 - val_accuracy: 0.9100\n",
      "Epoch 114/120\n",
      "10000/10000 [==============================] - 19s 2ms/step - loss: 0.1465 - accuracy: 0.9419 - val_loss: 0.2700 - val_accuracy: 0.9130\n",
      "Epoch 115/120\n",
      "10000/10000 [==============================] - 20s 2ms/step - loss: 0.1521 - accuracy: 0.9420 - val_loss: 0.2562 - val_accuracy: 0.9040\n",
      "Epoch 116/120\n",
      "10000/10000 [==============================] - 19s 2ms/step - loss: 0.1426 - accuracy: 0.9446 - val_loss: 0.2458 - val_accuracy: 0.9110\n",
      "Epoch 117/120\n",
      "10000/10000 [==============================] - 20s 2ms/step - loss: 0.1409 - accuracy: 0.9474 - val_loss: 0.2825 - val_accuracy: 0.9060\n",
      "Epoch 118/120\n",
      "10000/10000 [==============================] - 21s 2ms/step - loss: 0.1409 - accuracy: 0.9459 - val_loss: 0.2411 - val_accuracy: 0.9080\n",
      "Epoch 119/120\n",
      "10000/10000 [==============================] - 19s 2ms/step - loss: 0.1423 - accuracy: 0.9456 - val_loss: 0.2474 - val_accuracy: 0.9050\n",
      "Epoch 120/120\n",
      "10000/10000 [==============================] - 20s 2ms/step - loss: 0.1445 - accuracy: 0.9458 - val_loss: 0.2384 - val_accuracy: 0.9190\n"
     ]
    }
   ],
   "source": [
    "# training the model\n",
    "\n",
    "history = model.fit([inputs_train, queries_train], answers_train,batch_size=32,epochs=120,validation_data=([inputs_test, queries_test], answers_test))"
   ]
  },
  {
   "cell_type": "markdown",
   "metadata": {},
   "source": [
    "### Saving the Model"
   ]
  },
  {
   "cell_type": "code",
   "execution_count": 67,
   "metadata": {},
   "outputs": [],
   "source": [
    "filename = 'ChatBot_120_epochs.h5'\n",
    "model.save(filename)"
   ]
  },
  {
   "cell_type": "code",
   "execution_count": 68,
   "metadata": {},
   "outputs": [],
   "source": [
    "pickle.dump(model, open('ChatBot_model.pkl','wb'))"
   ]
  },
  {
   "cell_type": "markdown",
   "metadata": {},
   "source": [
    "## Evaluating the Model\n",
    "\n",
    "### Plotting Out Training History"
   ]
  },
  {
   "cell_type": "code",
   "execution_count": 69,
   "metadata": {},
   "outputs": [
    {
     "name": "stdout",
     "output_type": "stream",
     "text": [
      "dict_keys(['val_loss', 'val_accuracy', 'loss', 'accuracy'])\n"
     ]
    },
    {
     "data": {
      "image/png": "[encoded data removed]",
      "text/plain": [
       "<Figure size 432x288 with 1 Axes>"
      ]
     },
     "metadata": {
      "needs_background": "light"
     },
     "output_type": "display_data"
    }
   ],
   "source": [
    "import matplotlib.pyplot as plt\n",
    "%matplotlib inline\n",
    "print(history.history.keys())\n",
    "# summarize history for accuracy\n",
    "plt.plot(history.history['accuracy'])\n",
    "plt.plot(history.history['val_accuracy'])\n",
    "plt.title('model accuracy')\n",
    "plt.ylabel('accuracy')\n",
    "plt.xlabel('epoch')\n",
    "plt.legend(['train', 'test'], loc='upper left')\n",
    "plt.show()"
   ]
  },
  {
   "cell_type": "markdown",
   "metadata": {},
   "source": [
    "### Model Accuracy\n",
    "- Train Accuracy: 0.94\n",
    "- Test Accuracy:  0.91"
   ]
  },
  {
   "cell_type": "markdown",
   "metadata": {},
   "source": [
    "### Predicting on Given Test Set"
   ]
  },
  {
   "cell_type": "code",
   "execution_count": 70,
   "metadata": {},
   "outputs": [],
   "source": [
    "filename = 'chatbot_120_epochs.h5'\n",
    "model.load_weights(filename)\n",
    "pred_results = model.predict(([inputs_test, queries_test]))"
   ]
  },
  {
   "cell_type": "code",
   "execution_count": 71,
   "metadata": {},
   "outputs": [
    {
     "data": {
      "text/plain": [
       "['Mary',\n",
       " 'got',\n",
       " 'the',\n",
       " 'milk',\n",
       " 'there',\n",
       " '.',\n",
       " 'John',\n",
       " 'moved',\n",
       " 'to',\n",
       " 'the',\n",
       " 'bedroom',\n",
       " '.']"
      ]
     },
     "execution_count": 71,
     "metadata": {},
     "output_type": "execute_result"
    }
   ],
   "source": [
    "test_data[0][0]"
   ]
  },
  {
   "cell_type": "code",
   "execution_count": 72,
   "metadata": {},
   "outputs": [
    {
     "name": "stdout",
     "output_type": "stream",
     "text": [
      "Mary got the milk there . John moved to the bedroom .\n"
     ]
    }
   ],
   "source": [
    "story =' '.join(word for word in test_data[0][0])\n",
    "print(story)"
   ]
  },
  {
   "cell_type": "code",
   "execution_count": 73,
   "metadata": {},
   "outputs": [
    {
     "name": "stdout",
     "output_type": "stream",
     "text": [
      "Is John in the kitchen ?\n"
     ]
    }
   ],
   "source": [
    "query = ' '.join(word for word in test_data[0][1])\n",
    "print(query)"
   ]
  },
  {
   "cell_type": "code",
   "execution_count": 74,
   "metadata": {},
   "outputs": [
    {
     "name": "stdout",
     "output_type": "stream",
     "text": [
      "True Test Answer from Data is: no\n"
     ]
    }
   ],
   "source": [
    "print(\"True Test Answer from Data is:\",test_data[0][2])"
   ]
  },
  {
   "cell_type": "code",
   "execution_count": 75,
   "metadata": {},
   "outputs": [
    {
     "name": "stdout",
     "output_type": "stream",
     "text": [
      "Predicted answer is:  no\n",
      "Probability of certainty was:  0.9999994\n"
     ]
    }
   ],
   "source": [
    "#Generate prediction from model\n",
    "val_max = np.argmax(pred_results[0])\n",
    "\n",
    "for key, val in tokenizer.word_index.items():\n",
    "    if val == val_max:\n",
    "        k = key\n",
    "\n",
    "print(\"Predicted answer is: \", k)\n",
    "print(\"Probability of certainty was: \", pred_results[0][val_max])"
   ]
  },
  {
   "cell_type": "markdown",
   "metadata": {},
   "source": [
    "## Writing Your Own Stories and Questions\n",
    "\n",
    "Remember you can only use words from the existing vocab"
   ]
  },
  {
   "cell_type": "code",
   "execution_count": 76,
   "metadata": {},
   "outputs": [
    {
     "data": {
      "text/plain": [
       "{'.',\n",
       " '?',\n",
       " 'Daniel',\n",
       " 'Is',\n",
       " 'John',\n",
       " 'Mary',\n",
       " 'Sandra',\n",
       " 'apple',\n",
       " 'back',\n",
       " 'bathroom',\n",
       " 'bedroom',\n",
       " 'discarded',\n",
       " 'down',\n",
       " 'dropped',\n",
       " 'football',\n",
       " 'garden',\n",
       " 'got',\n",
       " 'grabbed',\n",
       " 'hallway',\n",
       " 'in',\n",
       " 'journeyed',\n",
       " 'kitchen',\n",
       " 'left',\n",
       " 'milk',\n",
       " 'moved',\n",
       " 'no',\n",
       " 'office',\n",
       " 'picked',\n",
       " 'put',\n",
       " 'the',\n",
       " 'there',\n",
       " 'to',\n",
       " 'took',\n",
       " 'travelled',\n",
       " 'up',\n",
       " 'went',\n",
       " 'yes'}"
      ]
     },
     "execution_count": 76,
     "metadata": {},
     "output_type": "execute_result"
    }
   ],
   "source": [
    "vocab"
   ]
  },
  {
   "cell_type": "code",
   "execution_count": 77,
   "metadata": {},
   "outputs": [
    {
     "data": {
      "text/plain": [
       "['John',\n",
       " 'left',\n",
       " 'the',\n",
       " 'kitchen',\n",
       " '.',\n",
       " 'Sandra',\n",
       " 'dropped',\n",
       " 'the',\n",
       " 'football',\n",
       " 'in',\n",
       " 'the',\n",
       " 'garden',\n",
       " '.']"
      ]
     },
     "execution_count": 77,
     "metadata": {},
     "output_type": "execute_result"
    }
   ],
   "source": [
    "# Note the whitespace of the periods\n",
    "my_story = \"John left the kitchen . Sandra dropped the football in the garden .\"\n",
    "my_story.split()"
   ]
  },
  {
   "cell_type": "code",
   "execution_count": 78,
   "metadata": {},
   "outputs": [],
   "source": [
    "my_question = \"Is the football in the garden ?\""
   ]
  },
  {
   "cell_type": "code",
   "execution_count": 79,
   "metadata": {},
   "outputs": [
    {
     "data": {
      "text/plain": [
       "['Is', 'the', 'football', 'in', 'the', 'garden', '?']"
      ]
     },
     "execution_count": 79,
     "metadata": {},
     "output_type": "execute_result"
    }
   ],
   "source": [
    "my_question.split()"
   ]
  },
  {
   "cell_type": "code",
   "execution_count": 80,
   "metadata": {},
   "outputs": [],
   "source": [
    "mydata = [(my_story.split(),my_question.split(),'yes')]"
   ]
  },
  {
   "cell_type": "code",
   "execution_count": 81,
   "metadata": {},
   "outputs": [],
   "source": [
    "my_story,my_ques,my_ans = vectorize_stories(mydata)"
   ]
  },
  {
   "cell_type": "code",
   "execution_count": 82,
   "metadata": {},
   "outputs": [],
   "source": [
    "pred_results = model.predict(([ my_story, my_ques]))"
   ]
  },
  {
   "cell_type": "code",
   "execution_count": 83,
   "metadata": {},
   "outputs": [
    {
     "name": "stdout",
     "output_type": "stream",
     "text": [
      "Predicted answer is:  no\n",
      "Probability of certainty was:  0.9903572\n"
     ]
    }
   ],
   "source": [
    "#Generate prediction from model\n",
    "val_max = np.argmax(pred_results[0])\n",
    "\n",
    "for key, val in tokenizer.word_index.items():\n",
    "    if val == val_max:\n",
    "        k = key\n",
    "\n",
    "print(\"Predicted answer is: \", k)\n",
    "print(\"Probability of certainty was: \", pred_results[0][val_max])"
   ]
  },
  {
   "cell_type": "markdown",
   "metadata": {},
   "source": [
    "# Thanks a lot ! "
   ]
  }
 ],
 "metadata": {
  "kernelspec": {
   "display_name": "Python 3 (ipykernel)",
   "language": "python",
   "name": "python3"
  },
  "language_info": {
   "codemirror_mode": {
    "name": "ipython",
    "version": 3
   },
   "file_extension": ".py",
   "mimetype": "text/x-python",
   "name": "python",
   "nbconvert_exporter": "python",
   "pygments_lexer": "ipython3",
   "version": "3.7.13"
  }
 },
 "nbformat": 4,
 "nbformat_minor": 2
}
